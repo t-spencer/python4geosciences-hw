{
 "cells": [
  {
   "cell_type": "markdown",
   "metadata": {},
   "source": [
    "## Homework 2\n",
    "## OCNG 489\n",
    "#### Author: Trent W. Spencer\n",
    "#### Python 3.5.1"
   ]
  },
  {
   "cell_type": "code",
   "execution_count": 9,
   "metadata": {
    "collapsed": false
   },
   "outputs": [],
   "source": [
    "#Question 1:\n",
    "Trent = {'Hometown':'Amarillo','Department':'Atmospheric Sciences','Status':'Undergrad','Years at TAMU':'2', 'Reasoning':'I am taking this course because I already have experience in python and would love to learn more and get additional practice with it.'}"
   ]
  },
  {
   "cell_type": "code",
   "execution_count": 8,
   "metadata": {
    "collapsed": false
   },
   "outputs": [
    {
     "name": "stdout",
     "output_type": "stream",
     "text": [
      "True\n",
      "False\n"
     ]
    }
   ],
   "source": [
    "#Question 2:\n",
    "def isvowel(letter):\n",
    "    vowels = ['a','e','i','o','u','y','A','E','I','O','U','Y']\n",
    "    if letter in vowels:\n",
    "        print('True')\n",
    "    else:\n",
    "        print('False')\n",
    "\n",
    "\n",
    "isvowel('a')        \n",
    "isvowel('b')"
   ]
  },
  {
   "cell_type": "code",
   "execution_count": 10,
   "metadata": {
    "collapsed": false
   },
   "outputs": [
    {
     "name": "stdout",
     "output_type": "stream",
     "text": [
      "2\n",
      "5\n"
     ]
    }
   ],
   "source": [
    "#Question 3\n",
    "def length(arg):\n",
    "    length = 0\n",
    "    for term in arg:\n",
    "        length = length + 1\n",
    "    print(length)\n",
    "    \n",
    "length(['string1', 'string2'])\n",
    "length('Hello')"
   ]
  },
  {
   "cell_type": "code",
   "execution_count": 2,
   "metadata": {
    "collapsed": false
   },
   "outputs": [
    {
     "data": {
      "text/plain": [
       "'radar'"
      ]
     },
     "execution_count": 2,
     "metadata": {},
     "output_type": "execute_result"
    }
   ],
   "source": [
    "#Question 4\n",
    "def reverse(string):\n",
    "    return string[::-1]\n",
    "reverse(\"radar\")\n",
    "    "
   ]
  },
  {
   "cell_type": "code",
   "execution_count": 52,
   "metadata": {
    "collapsed": false
   },
   "outputs": [
    {
     "name": "stdout",
     "output_type": "stream",
     "text": [
      "False\n"
     ]
    }
   ],
   "source": [
    "#Question 5\n",
    "def is_palindrome(text):\n",
    "    '''Finds if the arguement is a palindrome, meaning it is the same forwards and backwards'''\n",
    "    text = text.lower()\n",
    "    text = text.split()\n",
    "    text = ''.join(text)\n",
    "    \n",
    "    def reverse(string):\n",
    "        return string[::-1]\n",
    "    \n",
    "    rev = reverse(text.lower())\n",
    "    \n",
    "    if rev == text:\n",
    "        print(\"True\")\n",
    "    else:\n",
    "        print(\"False\")\n",
    "        \n",
    "is_palindrome(\"Cheese\")"
   ]
  },
  {
   "cell_type": "code",
   "execution_count": 12,
   "metadata": {
    "collapsed": false
   },
   "outputs": [
    {
     "name": "stdout",
     "output_type": "stream",
     "text": [
      "['This is a file\\n', 'It has some text\\n', '\\n', 'It also has a blank line\\n']\n",
      "['1 This is a file\\n', '2 It has some text\\n', '3 It also has a blank line\\n']\n"
     ]
    }
   ],
   "source": [
    "#Question 6\n",
    "file = open(\"../file.txt\")\n",
    "lines = file.readlines()\n",
    "print(lines)\n",
    "newf = []\n",
    "nu = 0\n",
    "for line in lines:\n",
    "    linechk = line.split()\n",
    "    if not linechk: continue\n",
    "    nu = nu + 1\n",
    "    newf.append(str(nu) + \" \" + line)\n",
    "with open('../test.log', 'w') as m:\n",
    "    for u in newf:\n",
    "        m.write(u)   "
   ]
  },
  {
   "cell_type": "code",
   "execution_count": 19,
   "metadata": {
    "collapsed": false
   },
   "outputs": [
    {
     "name": "stdout",
     "output_type": "stream",
     "text": [
      "[4, 2, 5]\n"
     ]
    }
   ],
   "source": [
    "#Question 7\n",
    "def method1(arg1):\n",
    "    emptylist = []\n",
    "    def length(arg):\n",
    "        length = 0\n",
    "        for term in arg:\n",
    "            length = length + 1\n",
    "        return length\n",
    "    for uuv in arg1:\n",
    "        xyz = length(uuv)\n",
    "        emptylist.append(xyz)\n",
    "    return emptylist\n",
    "\n",
    "print(method1(['list', 'of', 'words']))\n",
    "\n",
    "def method2(arg2):\n",
    "    "
   ]
  },
  {
   "cell_type": "code",
   "execution_count": 50,
   "metadata": {
    "collapsed": false
   },
   "outputs": [
    {
     "name": "stdout",
     "output_type": "stream",
     "text": [
      "Enter text to be encoded/decoded: Pnrfne pvcure? V zhpu cersre Pnrfne fnynq!\n"
     ]
    },
    {
     "data": {
      "text/plain": [
       "'Caesar cipher? I much prefer Caesar salad!'"
      ]
     },
     "execution_count": 50,
     "metadata": {},
     "output_type": "execute_result"
    }
   ],
   "source": [
    "#Question 8\n",
    "def endec():\n",
    "    phrase = input(\"Enter text to be encoded/decoded: \")\n",
    "    key = {'a':'n', 'b':'o', 'c':'p', 'd':'q', 'e':'r', 'f':'s', 'g':'t', 'h':'u', \n",
    "       'i':'v', 'j':'w', 'k':'x', 'l':'y', 'm':'z', 'n':'a', 'o':'b', 'p':'c', \n",
    "       'q':'d', 'r':'e', 's':'f', 't':'g', 'u':'h', 'v':'i', 'w':'j', 'x':'k',\n",
    "       'y':'l', 'z':'m', 'A':'N', 'B':'O', 'C':'P', 'D':'Q', 'E':'R', 'F':'S', \n",
    "       'G':'T', 'H':'U', 'I':'V', 'J':'W', 'K':'X', 'L':'Y', 'M':'Z', 'N':'A', \n",
    "       'O':'B', 'P':'C', 'Q':'D', 'R':'E', 'S':'F', 'T':'G', 'U':'H', 'V':'I', \n",
    "       'W':'J', 'X':'K', 'Y':'L', 'Z':'M', '?':'?', '!':'!', ' ':' '}\n",
    "    letters = []\n",
    "    new = []\n",
    "    for part in phrase:\n",
    "        letter = list(part)\n",
    "        for k in letter:\n",
    "            letters.append(k)\n",
    "    for l in letters:\n",
    "        newlet = key[l]\n",
    "        new.append(newlet)\n",
    "    newphrase = ''.join(new)\n",
    "    return newphrase\n",
    "\n",
    "endec()"
   ]
  },
  {
   "cell_type": "code",
   "execution_count": 2,
   "metadata": {
    "collapsed": false
   },
   "outputs": [
    {
     "name": "stdout",
     "output_type": "stream",
     "text": [
      "1 bottle of beer on the wall, 1 bottle of beer.\n",
      "Take one down, pass it around, 0 bottles of beer on the wall.\n",
      "\n",
      "2 bottles of beer on the wall, 2 bottles of beer.\n",
      "Take one down, pass it around, 1 bottles of beer on the wall.\n",
      "\n",
      "3 bottles of beer on the wall, 3 bottles of beer.\n",
      "Take one down, pass it around, 2 bottles of beer on the wall.\n",
      "\n"
     ]
    }
   ],
   "source": [
    "#Added colons, changed brackets to parenthesis, added another =, moved everything to one line\n",
    "#changed numbottles to 4 so no negative bottles, rearranged order of range args,\n",
    "\n",
    "def words(num):\n",
    "    \"\"\"Returns words with proper number of beer bottles filled in.\"\"\"\n",
    "    if num != 1:\n",
    "        return str(num) + ' bottles of beer on the wall, ' + str(num) + ' bottles of beer.\\n' + 'Take one down, pass it around, ' + str(num-1) + ' bottles of beer on the wall.\\n'\n",
    "    elif num == 1:\n",
    "        return str(num) + ' bottle of beer on the wall, ' + str(num) + ' bottle of beer.\\n' + 'Take one down, pass it around, ' + str(num-1) + ' bottles of beer on the wall.\\n'\n",
    "\n",
    "\n",
    "numbottles = 4  \n",
    "for i in range(1, numbottles, 1):\n",
    "    print(words(i))"
   ]
  },
  {
   "cell_type": "code",
   "execution_count": 13,
   "metadata": {
    "collapsed": false
   },
   "outputs": [],
   "source": [
    "#Question 10\n",
    "gpsfile = open('../python4geosciences/data/GPS.dat')\n",
    "gpslines = gpsfile.readlines()"
   ]
  },
  {
   "cell_type": "code",
   "execution_count": null,
   "metadata": {
    "collapsed": false
   },
   "outputs": [],
   "source": []
  }
 ],
 "metadata": {
  "kernelspec": {
   "display_name": "Python 3",
   "language": "python",
   "name": "python3"
  },
  "language_info": {
   "codemirror_mode": {
    "name": "ipython",
    "version": 3
   },
   "file_extension": ".py",
   "mimetype": "text/x-python",
   "name": "python",
   "nbconvert_exporter": "python",
   "pygments_lexer": "ipython3",
   "version": "3.5.1"
  }
 },
 "nbformat": 4,
 "nbformat_minor": 0
}
