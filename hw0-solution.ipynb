{
 "cells": [
  {
   "cell_type": "code",
   "execution_count": 1,
   "metadata": {
    "collapsed": true
   },
   "outputs": [],
   "source": [
    "#1. Anaconda 3 is installed, previously had 2.7\n",
    "#2. I already had git!\n",
    "#3. Repository is created"
   ]
  },
  {
   "cell_type": "code",
   "execution_count": 3,
   "metadata": {
    "collapsed": false
   },
   "outputs": [
    {
     "name": "stdout",
     "output_type": "stream",
     "text": [
      "How many times do we say it? 30\n",
      "Life at Texas A&M: \n",
      "Howdy!\n",
      "Howdy!\n",
      "Howdy!\n",
      "Howdy!\n",
      "Howdy!\n",
      "Howdy!\n",
      "Howdy!\n",
      "Howdy!\n",
      "Howdy!\n",
      "Howdy!\n",
      "Howdy!\n",
      "Howdy!\n",
      "Howdy!\n",
      "Howdy!\n",
      "Howdy!\n",
      "Howdy!\n",
      "Howdy!\n",
      "Howdy!\n",
      "Howdy!\n",
      "Howdy!\n",
      "Howdy!\n",
      "Howdy!\n",
      "Howdy!\n",
      "Howdy!\n",
      "Howdy!\n",
      "Howdy!\n",
      "Howdy!\n",
      "Howdy!\n",
      "Howdy!\n",
      "Howdy!\n"
     ]
    }
   ],
   "source": [
    "num = int(input(\"How many times do we say it? \"))\n",
    "print(\"Life at Texas A&M: \")\n",
    "for i in range(0,num):\n",
    "    print(\"Howdy!\")"
   ]
  },
  {
   "cell_type": "code",
   "execution_count": null,
   "metadata": {
    "collapsed": true
   },
   "outputs": [],
   "source": []
  }
 ],
 "metadata": {
  "kernelspec": {
   "display_name": "Python 3",
   "language": "python",
   "name": "python3"
  },
  "language_info": {
   "codemirror_mode": {
    "name": "ipython",
    "version": 3
   },
   "file_extension": ".py",
   "mimetype": "text/x-python",
   "name": "python",
   "nbconvert_exporter": "python",
   "pygments_lexer": "ipython3",
   "version": "3.5.1"
  }
 },
 "nbformat": 4,
 "nbformat_minor": 0
}
