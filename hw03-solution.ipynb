{
 "cells": [
  {
   "cell_type": "markdown",
   "metadata": {},
   "source": [
    "# Homework 3\n",
    "## OCNG-489\n",
    "### Author: Trenton W. Spencer\n",
    "### Python 3.5.1"
   ]
  },
  {
   "cell_type": "code",
   "execution_count": 97,
   "metadata": {
    "collapsed": true
   },
   "outputs": [],
   "source": [
    "import numpy as np"
   ]
  },
  {
   "cell_type": "code",
   "execution_count": 98,
   "metadata": {
    "collapsed": false
   },
   "outputs": [
    {
     "data": {
      "text/plain": [
       "array([ 0.,  0.,  0.,  0.,  1.,  0.,  0.,  0.,  0.,  0.])"
      ]
     },
     "execution_count": 98,
     "metadata": {},
     "output_type": "execute_result"
    }
   ],
   "source": [
    "#Question 1\n",
    "vec1 = np.zeros(10)\n",
    "vec1[4] = 1\n",
    "vec1"
   ]
  },
  {
   "cell_type": "code",
   "execution_count": 99,
   "metadata": {
    "collapsed": false
   },
   "outputs": [
    {
     "data": {
      "text/plain": [
       "array([10, 11, 12, 13, 14, 15, 16, 17, 18, 19, 20, 21, 22, 23, 24, 25, 26,\n",
       "       27, 28, 29, 30, 31, 32, 33, 34, 35, 36, 37, 38, 39, 40, 41, 42, 43,\n",
       "       44, 45, 46, 47, 48, 49])"
      ]
     },
     "execution_count": 99,
     "metadata": {},
     "output_type": "execute_result"
    }
   ],
   "source": [
    "#Question 2\n",
    "np.arange(10,50)"
   ]
  },
  {
   "cell_type": "code",
   "execution_count": 100,
   "metadata": {
    "collapsed": false
   },
   "outputs": [
    {
     "data": {
      "text/plain": [
       "array([3, 2, 1, 0])"
      ]
     },
     "execution_count": 100,
     "metadata": {},
     "output_type": "execute_result"
    }
   ],
   "source": [
    "#Question 3\n",
    "def reverse(x):\n",
    "    '''Reverses the vector order, so that the last element in the vector becomes the first.'''\n",
    "    return x[::-1]\n",
    "    \n",
    "y = np.array([0,1,2,3])\n",
    "reverse(y)"
   ]
  },
  {
   "cell_type": "code",
   "execution_count": 101,
   "metadata": {
    "collapsed": false
   },
   "outputs": [
    {
     "data": {
      "text/plain": [
       "array([1, 2, 4])"
      ]
     },
     "execution_count": 101,
     "metadata": {},
     "output_type": "execute_result"
    }
   ],
   "source": [
    "#Question 4\n",
    "def find_nonzero(z):\n",
    "    '''Returns the non-zero numbers of an array'''\n",
    "    l = []\n",
    "    for num in z:\n",
    "        if num != 0:\n",
    "            l.append(num)\n",
    "    return np.array(l)\n",
    "\n",
    "find_nonzero([1,2,0,0,4,0])"
   ]
  },
  {
   "cell_type": "code",
   "execution_count": 102,
   "metadata": {
    "collapsed": false
   },
   "outputs": [
    {
     "name": "stdout",
     "output_type": "stream",
     "text": [
      "[[[ 0.60662973  1.116576    0.2806891 ]\n",
      "  [-0.24378996  0.89757317 -0.30035777]\n",
      "  [ 0.68826144 -0.32071536 -0.14464123]]]\n"
     ]
    },
    {
     "data": {
      "text/plain": [
       "array([ 1.116576  ,  0.89757317, -0.32071536])"
      ]
     },
     "execution_count": 102,
     "metadata": {},
     "output_type": "execute_result"
    }
   ],
   "source": [
    "#Question 5\n",
    "a = np.random.normal(loc = 0, scale = 1, size = (1,3,3))\n",
    "print(a)\n",
    "a[0,:,1]"
   ]
  },
  {
   "cell_type": "code",
   "execution_count": 103,
   "metadata": {
    "collapsed": false,
    "scrolled": true
   },
   "outputs": [
    {
     "name": "stdout",
     "output_type": "stream",
     "text": [
      "The minimum value of the 2nd row is:  0.218859305831 \n",
      " The maximum value of the 4th column is:  0.918770218992\n"
     ]
    }
   ],
   "source": [
    "#Question 6\n",
    "randarr = np.random.rand(10,10)\n",
    "mn = np.min(randarr[1,:])\n",
    "mx = np.max(randarr[:,3])\n",
    "print('The minimum value of the 2nd row is: ', mn, '\\n The maximum value of the 4th column is: ', mx)"
   ]
  },
  {
   "cell_type": "code",
   "execution_count": 104,
   "metadata": {
    "collapsed": false
   },
   "outputs": [
    {
     "data": {
      "text/plain": [
       "array([ 0.90909091,  1.81818182,  2.72727273,  3.63636364,  4.54545455,\n",
       "        5.45454545,  6.36363636,  7.27272727,  8.18181818,  9.09090909])"
      ]
     },
     "execution_count": 104,
     "metadata": {},
     "output_type": "execute_result"
    }
   ],
   "source": [
    "#Question 7\n",
    "np.linspace(0,10,num = 11, endpoint = False)[1:]"
   ]
  },
  {
   "cell_type": "code",
   "execution_count": 105,
   "metadata": {
    "collapsed": false
   },
   "outputs": [
    {
     "data": {
      "text/plain": [
       "array([ 0.10815073,  0.17615307,  0.22503961,  0.33245453,  0.66025911,\n",
       "        0.69437738,  0.71005041,  0.76065153,  0.79345138,  0.87123393])"
      ]
     },
     "execution_count": 105,
     "metadata": {},
     "output_type": "execute_result"
    }
   ],
   "source": [
    "#Question 8\n",
    "randoarr = np.random.random(10)\n",
    "randoarr.sort()\n",
    "randoarr"
   ]
  },
  {
   "cell_type": "code",
   "execution_count": 134,
   "metadata": {
    "collapsed": false
   },
   "outputs": [
    {
     "data": {
      "text/plain": [
       "False"
      ]
     },
     "execution_count": 134,
     "metadata": {},
     "output_type": "execute_result"
    }
   ],
   "source": [
    "#Question 9\n",
    "def is_equal(A,B):\n",
    "    if (A == B).all():\n",
    "        return True\n",
    "    else:\n",
    "        return False\n",
    "    \n",
    "A = np.array([[1,2,3],[4,5,6],[7,8,9]])\n",
    "B = np.array([[1,2,3],[4,5,6],[7,20]])\n",
    "is_equal(A,B)"
   ]
  },
  {
   "cell_type": "code",
   "execution_count": 107,
   "metadata": {
    "collapsed": false
   },
   "outputs": [
    {
     "data": {
      "text/plain": [
       "matrix([[  -5,    0,    5],\n",
       "        [-440, -410,  850],\n",
       "        [ -22,   37,  -14]])"
      ]
     },
     "execution_count": 107,
     "metadata": {},
     "output_type": "execute_result"
    }
   ],
   "source": [
    "#Question 10\n",
    "mat = np.matrix([[10,15,20],[6,36,1296],[4,64,12]])\n",
    "mat[0] = mat[0] - np.mean(mat[0])\n",
    "mat[1] = mat[1] - np.mean(mat[1])\n",
    "mat[2] = mat[2] - np.mean(mat[2])\n",
    "mat"
   ]
  },
  {
   "cell_type": "code",
   "execution_count": 155,
   "metadata": {
    "collapsed": false
   },
   "outputs": [
    {
     "data": {
      "text/plain": [
       "array([[[ 0.62969761,  0.2719687 ,  0.26009219],\n",
       "        [ 0.70855785,  0.48687742,  0.50652135],\n",
       "        [ 0.00686611,  0.01255973,  0.01290911],\n",
       "        [ 0.13961793,  0.43558875,  0.13292337],\n",
       "        [ 0.44668966,  0.34673889,  0.06635398]],\n",
       "\n",
       "       [[ 0.01362762,  0.04434517,  0.02619089],\n",
       "        [ 0.39236208,  0.27505437,  0.21835198],\n",
       "        [ 0.00757436,  0.06875872,  0.00870662],\n",
       "        [ 0.35487041,  0.24705343,  0.02865179],\n",
       "        [ 0.28453637,  0.6075058 ,  0.13290243]],\n",
       "\n",
       "       [[ 0.22927914,  0.13178649,  0.31492284],\n",
       "        [ 0.32682382,  0.20952825,  0.20301224],\n",
       "        [ 0.13330048,  0.36246752,  0.06215521],\n",
       "        [ 0.11412591,  0.14280585,  0.18180759],\n",
       "        [ 0.74058632,  0.67099452,  0.7265713 ]],\n",
       "\n",
       "       [[ 0.04148672,  0.21295337,  0.12040207],\n",
       "        [ 0.24721761,  0.08337228,  0.08963042],\n",
       "        [ 0.51323841,  0.27851564,  0.39711545],\n",
       "        [ 0.09675475,  0.05492514,  0.0755781 ],\n",
       "        [ 0.37591189,  0.08754619,  0.30249855]],\n",
       "\n",
       "       [[ 0.68478692,  0.63375498,  0.68592412],\n",
       "        [ 0.01960671,  0.03337314,  0.01360344],\n",
       "        [ 0.03372468,  0.50902206,  0.45170699],\n",
       "        [ 0.07261401,  0.01884878,  0.04194024],\n",
       "        [ 0.09011649,  0.06375933,  0.03506856]]])"
      ]
     },
     "execution_count": 155,
     "metadata": {},
     "output_type": "execute_result"
    }
   ],
   "source": [
    "#Question 11a\n",
    "array1 = np.random.rand(5, 5, 3)\n",
    "array2 = np.random.rand(5, 5)\n",
    "array2 = array2[:,:,np.newaxis]\n",
    "array1 * array2"
   ]
  },
  {
   "cell_type": "code",
   "execution_count": 154,
   "metadata": {
    "collapsed": false
   },
   "outputs": [
    {
     "data": {
      "text/plain": [
       "array([[[  1.82391896e-01,   2.68464054e-01,   9.18536064e-02,\n",
       "           1.41862367e-01,   1.85304477e-01],\n",
       "        [  3.39081724e-01,   7.18630912e-02,   1.53712549e-01,\n",
       "           1.84245962e-01,   3.39835651e-01],\n",
       "        [  1.87858373e-02,   1.42918670e-01,   4.53001919e-01,\n",
       "           5.14981183e-03,   3.26502231e-01],\n",
       "        [  4.71114452e-01,   3.14334864e-02,   7.42714037e-03,\n",
       "           2.73332795e-01,   4.21220559e-01],\n",
       "        [  4.69623765e-01,   8.83284401e-02,   4.59381875e-01,\n",
       "           5.91829957e-04,   3.52508344e-01]],\n",
       "\n",
       "       [[  2.39966451e-03,   3.39408261e-01,   1.40441408e-01,\n",
       "           2.69947430e-01,   1.48238731e-01],\n",
       "        [  2.99808217e-01,   7.31852555e-02,   2.43706200e-01,\n",
       "           3.07034358e-01,   5.17274650e-01],\n",
       "        [  5.49760005e-02,   9.81831615e-03,   7.15115000e-01,\n",
       "           1.37648292e-01,   3.83782044e-01],\n",
       "        [  5.40073730e-01,   4.51031360e-01,   1.26354268e-02,\n",
       "           3.65132303e-01,   1.82220236e-01],\n",
       "        [  8.73150196e-03,   3.08775238e-02,   3.64264331e-01,\n",
       "           1.39019233e-04,   1.45987012e-02]],\n",
       "\n",
       "       [[  2.37041595e-01,   1.79168701e-01,   8.88943708e-02,\n",
       "           3.31898983e-01,   1.79586661e-01],\n",
       "        [  6.89236116e-02,   6.64750831e-03,   1.98208199e-01,\n",
       "           2.11227063e-01,   2.35099637e-01],\n",
       "        [  4.47195393e-03,   6.82840251e-03,   6.13613756e-01,\n",
       "           1.55472033e-01,   1.77158299e-01],\n",
       "        [  5.34204267e-01,   1.09532715e-01,   3.19375407e-02,\n",
       "           6.52863190e-01,   3.78989839e-01],\n",
       "        [  3.04239464e-01,   4.39109464e-01,   1.90225787e-01,\n",
       "           1.14519284e-03,   5.07573791e-01]]])"
      ]
     },
     "execution_count": 154,
     "metadata": {},
     "output_type": "execute_result"
    }
   ],
   "source": [
    "#Question 11b\n",
    "array1 = np.random.rand(3, 5, 5)\n",
    "array2 = np.random.rand(5, 5)\n",
    "array2 = array2[np.newaxis,:,:]\n",
    "array1 * array2"
   ]
  },
  {
   "cell_type": "code",
   "execution_count": 135,
   "metadata": {
    "collapsed": false
   },
   "outputs": [
    {
     "data": {
      "text/plain": [
       "array([[ 1,  2,  3,  4],\n",
       "       [ 2,  3,  4,  5],\n",
       "       [ 3,  4,  5,  6],\n",
       "       [ 4,  5,  6,  7],\n",
       "       [ 5,  6,  7,  8],\n",
       "       [ 6,  7,  8,  9],\n",
       "       [ 7,  8,  9, 10],\n",
       "       [ 8,  9, 10, 11],\n",
       "       [ 9, 10, 11, 12],\n",
       "       [10, 11, 12, 13],\n",
       "       [11, 12, 13, 14]])"
      ]
     },
     "execution_count": 135,
     "metadata": {},
     "output_type": "execute_result"
    }
   ],
   "source": [
    "#Question 12\n",
    "Z = [1,2,3,4,5,6,7,8,9,10,11,12,13,14]\n",
    "r = []\n",
    "for i in range(0,11):\n",
    "    s = Z[i:i+4]\n",
    "    r.append(s)\n",
    "np.array(r)"
   ]
  },
  {
   "cell_type": "code",
   "execution_count": 136,
   "metadata": {
    "collapsed": false
   },
   "outputs": [
    {
     "data": {
      "text/plain": [
       "array([[  2.23606798,   1.10714872],\n",
       "       [  4.24264069,   0.78539816],\n",
       "       [ 10.81665383,   0.98279372]])"
      ]
     },
     "execution_count": 136,
     "metadata": {},
     "output_type": "execute_result"
    }
   ],
   "source": [
    "#Question 13\n",
    "def cart2polar(xy):\n",
    "    conv = []\n",
    "    for k in range(len(xy)):\n",
    "        x = xy[k,0]\n",
    "        y = xy[k,1]\n",
    "        r = np.sqrt(x**2 + y**2)\n",
    "        theta = np.arctan(y/x)\n",
    "        conv.append([r, theta])\n",
    "    return np.array(conv)\n",
    "\n",
    "ex = np.array([[1,2],[3,3],[6,9]])\n",
    "cart2polar(ex)"
   ]
  },
  {
   "cell_type": "code",
   "execution_count": 156,
   "metadata": {
    "collapsed": false
   },
   "outputs": [
    {
     "name": "stdout",
     "output_type": "stream",
     "text": [
      "CPU times: user 0 ns, sys: 0 ns, total: 0 ns\n",
      "Wall time: 21.2 µs\n",
      "The slowest run took 27.55 times longer than the fastest. This could mean that an intermediate result is being cached \n",
      "1000000 loops, best of 3: 1.4 µs per loop\n"
     ]
    }
   ],
   "source": [
    "#Question 14\n",
    "%time\n",
    "a = np.arange(1024.0).reshape(4, 8, 16, 2)   # a 4D array using sequential numbers\n",
    "b = np.random.rand(4, 8, 16, 2)              # a 4D array using random numbers\n",
    "%timeit sol = a * b  # element-by-element multiplication. This operation is about as fast as it can be on your computer."
   ]
  },
  {
   "cell_type": "code",
   "execution_count": 123,
   "metadata": {
    "collapsed": false
   },
   "outputs": [],
   "source": [
    "#Question 15\n",
    "def calculate(a, b):\n",
    "    \"\"\"Do some calculations\n",
    "    \n",
    "    Take in two arrays, subtract 1/4 of the [:2,:] elements from the elements themselves.\n",
    "    Then multiply with array b and return the result.\n",
    "    \n",
    "    Inputs:\n",
    "        a: input array, shape [MxN]\n",
    "        b: input array, shape [M]\n",
    "    \n",
    "    Returns:\n",
    "        resultant array\n",
    "    \"\"\"\n",
    "\n",
    "    a[:2, :] = a[:2,:] - (a[:2,:]/4)\n",
    "    b = b[:,np.newaxis]\n",
    "    return a*b\n",
    "    \n",
    "\n",
    "a = np.ones((3, 2))\n",
    "b = np.ones(3)*3\n",
    "res = calculate(a, b)\n",
    "\n",
    "#The way it was written just confused me, so I rewrote it as a single line. Had to create new dimension for b\n",
    "#to be multiplied out.\n",
    "\n",
    "assert (res == np.array([[ 2.25,  2.25],[ 2.25,  2.25],[ 3., 3.]])).all()"
   ]
  },
  {
   "cell_type": "code",
   "execution_count": 110,
   "metadata": {
    "collapsed": false
   },
   "outputs": [
    {
     "data": {
      "text/plain": [
       "array([[[  2.08397511],\n",
       "        [ -2.1580194 ]],\n",
       "\n",
       "       [[  1.96070053],\n",
       "        [ -3.01921404]],\n",
       "\n",
       "       [[  2.12119911],\n",
       "        [ -2.52794666]],\n",
       "\n",
       "       ..., \n",
       "       [[  9.56084447],\n",
       "        [ -6.208885  ]],\n",
       "\n",
       "       [[ 10.50707636],\n",
       "        [ -5.5867116 ]],\n",
       "\n",
       "       [[  8.83345912],\n",
       "        [ -5.1       ]]])"
      ]
     },
     "execution_count": 110,
     "metadata": {},
     "output_type": "execute_result"
    }
   ],
   "source": [
    "#Question 16\n",
    "data = np.loadtxt('../python4geosciences/data/burl1h2010.txt', comments = '#')\n",
    "vdir = data[:,5]\n",
    "vspd = data[:,6]\n",
    "def uvconvert(vdir,vspd):\n",
    "    components = []\n",
    "    u = vspd*np.cos(np.deg2rad((vdir - 180)))\n",
    "    v = vspd*np.sin(np.deg2rad((vdir - 180)))\n",
    "    components.append([u,v])\n",
    "    return np.transpose(np.array(components))\n",
    "\n",
    "uvconvert(vdir, vspd)"
   ]
  },
  {
   "cell_type": "code",
   "execution_count": null,
   "metadata": {
    "collapsed": true
   },
   "outputs": [],
   "source": []
  }
 ],
 "metadata": {
  "kernelspec": {
   "display_name": "Python 3",
   "language": "python",
   "name": "python3"
  },
  "language_info": {
   "codemirror_mode": {
    "name": "ipython",
    "version": 3
   },
   "file_extension": ".py",
   "mimetype": "text/x-python",
   "name": "python",
   "nbconvert_exporter": "python",
   "pygments_lexer": "ipython3",
   "version": "3.5.1"
  }
 },
 "nbformat": 4,
 "nbformat_minor": 0
}
